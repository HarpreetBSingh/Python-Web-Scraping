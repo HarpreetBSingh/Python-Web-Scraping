{
 "cells": [
  {
   "cell_type": "code",
   "execution_count": 1,
   "metadata": {},
   "outputs": [],
   "source": [
    "# importing libraries \n",
    "\n",
    "from bs4 import BeautifulSoup\n",
    "import requests\n",
    "import time\n",
    "import datetime\n",
    "import smtplib\n",
    "import datetime\n",
    "import pandas as pd\n",
    "import csv \n",
    "\n"
   ]
  },
  {
   "cell_type": "code",
   "execution_count": 2,
   "metadata": {},
   "outputs": [
    {
     "name": "stdout",
     "output_type": "stream",
     "text": [
      "\n",
      "     Logitech G910 Orion Spectrum RGB Wired Mechanical Gaming Keyboard , Black\n",
      "    \n",
      "\n",
      "                           $70.00\n",
      "                          \n"
     ]
    }
   ],
   "source": [
    "# Connect to Website and pull in data\n",
    "# We will pull data for a Logitech Gaming Keyboard\n",
    "\n",
    "URL = 'https://www.amazon.com/Logitech-Spectrum-Mechanical-Keyboard-920-008012/dp/B01GAONOAC/ref=sr_1_8?keywords=gaming+keyboard&pd_rd_r=20084cd0-0a66-4fea-9c78-a35c5eb764ff&pd_rd_w=f2nKh&pd_rd_wg=uPe1o&pf_rd_p=12129333-2117-4490-9c17-6d31baf0582a&pf_rd_r=E3TNN5N7PY0TACZ50TQQ&qid=1651199434&sr=8-8'\n",
    "\n",
    "headers = {\"User-Agent\": \"Mozilla/5.0 (Windows NT 10.0; Win64; x64) AppleWebKit/537.36 (KHTML, like Gecko) Chrome/100.0.4896.127 Safari/537.36\",  \"Accept-Encoding\":\"gzip, deflate\", \"Accept\":\"text/html,application/xhtml+xml,application/xml;q=0.9,*/*;q=0.8\", \"DNT\":\"1\",\"Connection\":\"close\", \"Upgrade-Insecure-Requests\":\"1\"}\n",
    "\n",
    "page = requests.get(URL, headers=headers)\n",
    "\n",
    "soup1 = BeautifulSoup(page.content, \"html.parser\")\n",
    "\n",
    "soup2 = BeautifulSoup(soup1.prettify(), \"html.parser\")\n",
    "\n",
    "title = soup2.find(id='productTitle').get_text()\n",
    "\n",
    "price = soup2.find('span', 'a-offscreen').get_text()\n",
    "\n",
    "\n",
    "print(title)\n",
    "print(price)"
   ]
  },
  {
   "cell_type": "code",
   "execution_count": 3,
   "metadata": {},
   "outputs": [
    {
     "name": "stdout",
     "output_type": "stream",
     "text": [
      "Logitech G910 Orion Spectrum RGB Wired Mechanical Gaming Keyboard , Black\n",
      "70.00\n"
     ]
    }
   ],
   "source": [
    "# Cleaning up data of white spaces\n",
    "\n",
    "price = price.strip()[1:]\n",
    "title = title.strip()\n",
    "\n",
    "print(title)\n",
    "print(price)"
   ]
  },
  {
   "cell_type": "code",
   "execution_count": 4,
   "metadata": {},
   "outputs": [
    {
     "name": "stdout",
     "output_type": "stream",
     "text": [
      "2022-04-28\n"
     ]
    }
   ],
   "source": [
    "# Creating timestamp to track when the data was collected\n",
    "\n",
    "today = datetime.date.today()\n",
    "\n",
    "print(today)"
   ]
  },
  {
   "cell_type": "code",
   "execution_count": 5,
   "metadata": {},
   "outputs": [],
   "source": [
    "# Creating a CSV with headers and data from BeautifulSoup web scraping\n",
    "\n",
    "\n",
    "header = ['Product', 'Price', 'Date']\n",
    "data = [title, price, today]\n",
    "\n",
    "\n",
    "# This creates a new CSV, so it should be commented out if we are running the script again but want to save older data\n",
    "with open('AmazonWebScrapingDataset.csv', 'w', newline='', encoding='UTF8') as f:\n",
    "    writer = csv.writer(f)\n",
    "    writer.writerow(header)\n",
    "    writer.writerow(data)"
   ]
  },
  {
   "cell_type": "code",
   "execution_count": 6,
   "metadata": {},
   "outputs": [
    {
     "name": "stdout",
     "output_type": "stream",
     "text": [
      "                                             Product  Price        Date\n",
      "0  Logitech G910 Orion Spectrum RGB Wired Mechani...   70.0  2022-04-28\n"
     ]
    }
   ],
   "source": [
    "\n",
    "webscrape_df = pd.read_csv('AmazonWebScrapingDataset.csv')\n",
    "\n",
    "print(webscrape_df)"
   ]
  },
  {
   "cell_type": "code",
   "execution_count": 7,
   "metadata": {},
   "outputs": [],
   "source": [
    "#Appending Data to CSV, useful for when we are running an algorithm that is continuously web scraping\n",
    "\n",
    "with open('AmazonWebScrapingDataset.csv', 'a+', newline='', encoding='UTF8') as f:\n",
    "    writer = csv.writer(f)\n",
    "    writer.writerow(data)"
   ]
  },
  {
   "cell_type": "code",
   "execution_count": 8,
   "metadata": {},
   "outputs": [],
   "source": [
    "#Combine all of the above code into one function\n",
    "\n",
    "\n",
    "def check_price():\n",
    "    URL = 'https://www.amazon.com/Logitech-Spectrum-Mechanical-Keyboard-920-008012/dp/B01GAONOAC/ref=sr_1_8?keywords=gaming+keyboard&pd_rd_r=20084cd0-0a66-4fea-9c78-a35c5eb764ff&pd_rd_w=f2nKh&pd_rd_wg=uPe1o&pf_rd_p=12129333-2117-4490-9c17-6d31baf0582a&pf_rd_r=E3TNN5N7PY0TACZ50TQQ&qid=1651199434&sr=8-8'\n",
    "\n",
    "    headers = {\"User-Agent\": \"Mozilla/5.0 (Windows NT 10.0; Win64; x64) AppleWebKit/537.36 (KHTML, like Gecko) Chrome/100.0.4896.127 Safari/537.36\",  \"Accept-Encoding\":\"gzip, deflate\", \"Accept\":\"text/html,application/xhtml+xml,application/xml;q=0.9,*/*;q=0.8\", \"DNT\":\"1\",\"Connection\":\"close\", \"Upgrade-Insecure-Requests\":\"1\"}\n",
    "\n",
    "    page = requests.get(URL, headers=headers)\n",
    "\n",
    "    soup1 = BeautifulSoup(page.content, \"html.parser\")\n",
    "\n",
    "    soup2 = BeautifulSoup(soup1.prettify(), \"html.parser\")\n",
    "\n",
    "    title = soup2.find(id='productTitle').get_text()\n",
    "\n",
    "    price = soup2.find('span', 'a-offscreen').get_text()\n",
    "\n",
    "    price = price.strip()[1:]\n",
    "    title = title.strip()\n",
    "\n",
    "    import datetime\n",
    "\n",
    "    today = datetime.date.today()\n",
    "    \n",
    "    import csv \n",
    "\n",
    "\n",
    "    header = ['Product', 'Price', 'Date']\n",
    "    data = [title, price, today]\n",
    "\n",
    "    with open('AmazonWebScrapingDataset.csv', 'a+', newline='', encoding='UTF8') as f:\n",
    "        writer = csv.writer(f)\n",
    "        writer.writerow(data)"
   ]
  },
  {
   "cell_type": "code",
   "execution_count": 9,
   "metadata": {},
   "outputs": [
    {
     "ename": "KeyboardInterrupt",
     "evalue": "",
     "output_type": "error",
     "traceback": [
      "\u001b[1;31m---------------------------------------------------------------------------\u001b[0m",
      "\u001b[1;31mKeyboardInterrupt\u001b[0m                         Traceback (most recent call last)",
      "\u001b[1;32m<ipython-input-9-1596a3a0dce5>\u001b[0m in \u001b[0;36m<module>\u001b[1;34m\u001b[0m\n\u001b[0;32m      3\u001b[0m \u001b[1;32mwhile\u001b[0m\u001b[1;33m(\u001b[0m\u001b[1;32mTrue\u001b[0m\u001b[1;33m)\u001b[0m\u001b[1;33m:\u001b[0m\u001b[1;33m\u001b[0m\u001b[1;33m\u001b[0m\u001b[0m\n\u001b[0;32m      4\u001b[0m     \u001b[0mcheck_price\u001b[0m\u001b[1;33m(\u001b[0m\u001b[1;33m)\u001b[0m\u001b[1;33m\u001b[0m\u001b[1;33m\u001b[0m\u001b[0m\n\u001b[1;32m----> 5\u001b[1;33m     \u001b[0mtime\u001b[0m\u001b[1;33m.\u001b[0m\u001b[0msleep\u001b[0m\u001b[1;33m(\u001b[0m\u001b[1;36m5\u001b[0m\u001b[1;33m)\u001b[0m\u001b[1;33m\u001b[0m\u001b[1;33m\u001b[0m\u001b[0m\n\u001b[0m",
      "\u001b[1;31mKeyboardInterrupt\u001b[0m: "
     ]
    }
   ],
   "source": [
    "# Automating price check after a set time and inputting this data into the CSV\n",
    "# For testing purposes, it was 5 seconds but a more practical code should be maybe 86400 in order to web scrape once per day\n",
    "while(True):\n",
    "    check_price()\n",
    "    time.sleep(5)"
   ]
  },
  {
   "cell_type": "markdown",
   "metadata": {},
   "source": [
    "We can stop this whenever we wish and the next cell will print out all of the data that has been web scraped\n"
   ]
  },
  {
   "cell_type": "code",
   "execution_count": 10,
   "metadata": {},
   "outputs": [
    {
     "name": "stdout",
     "output_type": "stream",
     "text": [
      "                                              Product  Price        Date\n",
      "0   Logitech G910 Orion Spectrum RGB Wired Mechani...   70.0  2022-04-28\n",
      "1   Logitech G910 Orion Spectrum RGB Wired Mechani...   70.0  2022-04-28\n",
      "2   Logitech G910 Orion Spectrum RGB Wired Mechani...   70.0  2022-04-28\n",
      "3   Logitech G910 Orion Spectrum RGB Wired Mechani...   70.0  2022-04-28\n",
      "4   Logitech G910 Orion Spectrum RGB Wired Mechani...   70.0  2022-04-28\n",
      "5   Logitech G910 Orion Spectrum RGB Wired Mechani...   70.0  2022-04-28\n",
      "6   Logitech G910 Orion Spectrum RGB Wired Mechani...   70.0  2022-04-28\n",
      "7   Logitech G910 Orion Spectrum RGB Wired Mechani...   70.0  2022-04-28\n",
      "8   Logitech G910 Orion Spectrum RGB Wired Mechani...   70.0  2022-04-28\n",
      "9   Logitech G910 Orion Spectrum RGB Wired Mechani...   70.0  2022-04-28\n",
      "10  Logitech G910 Orion Spectrum RGB Wired Mechani...   70.0  2022-04-28\n",
      "11  Logitech G910 Orion Spectrum RGB Wired Mechani...   70.0  2022-04-28\n",
      "12  Logitech G910 Orion Spectrum RGB Wired Mechani...   70.0  2022-04-28\n"
     ]
    }
   ],
   "source": [
    "webscrape_df = pd.read_csv('AmazonWebScrapingDataset.csv')\n",
    "\n",
    "print(webscrape_df)"
   ]
  },
  {
   "cell_type": "code",
   "execution_count": null,
   "metadata": {},
   "outputs": [],
   "source": []
  },
  {
   "cell_type": "code",
   "execution_count": null,
   "metadata": {},
   "outputs": [],
   "source": []
  }
 ],
 "metadata": {
  "kernelspec": {
   "display_name": "Python 3",
   "language": "python",
   "name": "python3"
  },
  "language_info": {
   "codemirror_mode": {
    "name": "ipython",
    "version": 3
   },
   "file_extension": ".py",
   "mimetype": "text/x-python",
   "name": "python",
   "nbconvert_exporter": "python",
   "pygments_lexer": "ipython3",
   "version": "3.7.6"
  }
 },
 "nbformat": 4,
 "nbformat_minor": 4
}
